{
 "cells": [
  {
   "cell_type": "code",
   "execution_count": 1,
   "id": "dd5b0103-e985-459d-99e2-7d2230af118e",
   "metadata": {},
   "outputs": [],
   "source": [
    "# Add project root to the Python path to allow importing from the 'scripts' folder\n",
    "import sys\n",
    "import os\n",
    "sys.path.append(os.path.abspath(os.path.join('..')))\n",
    "\n",
    "# Import the consolidated helper script with an alias 'h'\n",
    "from scripts import project_helpers as h\n",
    "\n",
    "# Import other necessary libraries\n",
    "import pandas as pd\n",
    "\n",
    "# Configure notebook display options\n",
    "%matplotlib inline\n",
    "%config InlineBackend.figure_format = 'retina'\n",
    "pd.set_option('display.max_columns', 50)"
   ]
  },
  {
   "cell_type": "code",
   "execution_count": 2,
   "id": "a3de804a-bda1-4b91-962b-48a3ff148ca1",
   "metadata": {},
   "outputs": [
    {
     "name": "stdout",
     "output_type": "stream",
     "text": [
      "Project Base Directory: C:\\dev\\castilla_tourism_portfolio\n",
      "Chart output directory: C:\\dev\\castilla_tourism_portfolio\\output\n"
     ]
    }
   ],
   "source": [
    "# The helper script already defines all paths. We just need to create the output directory.\n",
    "h.OUTPUT_DIR.mkdir(parents=True, exist_ok=True)\n",
    "print(f\"Project Base Directory: {h.BASE_DIR}\")\n",
    "print(f\"Chart output directory: {h.OUTPUT_DIR.resolve()}\")"
   ]
  },
  {
   "cell_type": "markdown",
   "id": "9bb71d30-d28d-49cf-93ee-ec0550bb3565",
   "metadata": {},
   "source": [
    "## 1. Data Loading\n",
    "\n",
    "Load all datasets using the functions from our `project_helpers` script."
   ]
  },
  {
   "cell_type": "code",
   "execution_count": 3,
   "id": "ffc8e1a1-ffd5-40f3-be36-900a983437da",
   "metadata": {
    "scrolled": true
   },
   "outputs": [
    {
     "name": "stdout",
     "output_type": "stream",
     "text": [
      "Loading INE data...\n"
     ]
    },
    {
     "ename": "AttributeError",
     "evalue": "'Series' object has no attribute 'year'",
     "output_type": "error",
     "traceback": [
      "\u001b[1;31m---------------------------------------------------------------------------\u001b[0m",
      "\u001b[1;31mAttributeError\u001b[0m                            Traceback (most recent call last)",
      "\u001b[1;32m~\\AppData\\Local\\Temp\\ipykernel_18680\\3573350168.py\u001b[0m in \u001b[0;36m?\u001b[1;34m()\u001b[0m\n\u001b[0;32m      1\u001b[0m \u001b[1;31m# --- Load INE Data ---\u001b[0m\u001b[1;33m\u001b[0m\u001b[1;33m\u001b[0m\u001b[0m\n\u001b[0;32m      2\u001b[0m \u001b[0mprint\u001b[0m\u001b[1;33m(\u001b[0m\u001b[1;34m\"Loading INE data...\"\u001b[0m\u001b[1;33m)\u001b[0m\u001b[1;33m\u001b[0m\u001b[1;33m\u001b[0m\u001b[0m\n\u001b[0;32m      3\u001b[0m \u001b[0mdf_ine_ecp\u001b[0m \u001b[1;33m=\u001b[0m \u001b[0mh\u001b[0m\u001b[1;33m.\u001b[0m\u001b[0mload_ine_ecp\u001b[0m\u001b[1;33m(\u001b[0m\u001b[1;33m)\u001b[0m\u001b[1;33m\u001b[0m\u001b[1;33m\u001b[0m\u001b[0m\n\u001b[1;32m----> 4\u001b[1;33m \u001b[0mdf_ine_padron\u001b[0m \u001b[1;33m=\u001b[0m \u001b[0mh\u001b[0m\u001b[1;33m.\u001b[0m\u001b[0mload_ine_municipal_padron\u001b[0m\u001b[1;33m(\u001b[0m\u001b[1;33m)\u001b[0m\u001b[1;33m\u001b[0m\u001b[1;33m\u001b[0m\u001b[0m\n\u001b[0m\u001b[0;32m      5\u001b[0m \u001b[0mdf_ine_frontur\u001b[0m \u001b[1;33m=\u001b[0m \u001b[0mh\u001b[0m\u001b[1;33m.\u001b[0m\u001b[0mload_ine_frontur\u001b[0m\u001b[1;33m(\u001b[0m\u001b[1;33m)\u001b[0m\u001b[1;33m\u001b[0m\u001b[1;33m\u001b[0m\u001b[0m\n\u001b[0;32m      6\u001b[0m \u001b[0mdf_ine_eoh\u001b[0m \u001b[1;33m=\u001b[0m \u001b[0mh\u001b[0m\u001b[1;33m.\u001b[0m\u001b[0mload_ine_eoh\u001b[0m\u001b[1;33m(\u001b[0m\u001b[1;33m)\u001b[0m\u001b[1;33m\u001b[0m\u001b[1;33m\u001b[0m\u001b[0m\n\u001b[0;32m      7\u001b[0m \u001b[0mprint\u001b[0m\u001b[1;33m(\u001b[0m\u001b[1;34m\"INE data loaded.\"\u001b[0m\u001b[1;33m)\u001b[0m\u001b[1;33m\u001b[0m\u001b[1;33m\u001b[0m\u001b[0m\n",
      "\u001b[1;32mC:\\dev\\castilla_tourism_portfolio\\scripts\\project_helpers.py\u001b[0m in \u001b[0;36m?\u001b[1;34m()\u001b[0m\n\u001b[0;32m     83\u001b[0m     \u001b[1;32mfor\u001b[0m \u001b[0mf\u001b[0m \u001b[1;32min\u001b[0m \u001b[0mfiles\u001b[0m\u001b[1;33m:\u001b[0m\u001b[1;33m\u001b[0m\u001b[1;33m\u001b[0m\u001b[0m\n\u001b[0;32m     84\u001b[0m         \u001b[0mcity_code\u001b[0m \u001b[1;33m=\u001b[0m \u001b[0mPath\u001b[0m\u001b[1;33m(\u001b[0m\u001b[0mf\u001b[0m\u001b[1;33m)\u001b[0m\u001b[1;33m.\u001b[0m\u001b[0mstem\u001b[0m\u001b[1;33m.\u001b[0m\u001b[0msplit\u001b[0m\u001b[1;33m(\u001b[0m\u001b[1;34m'_'\u001b[0m\u001b[1;33m)\u001b[0m\u001b[1;33m[\u001b[0m\u001b[1;36m1\u001b[0m\u001b[1;33m]\u001b[0m\u001b[1;33m\u001b[0m\u001b[1;33m\u001b[0m\u001b[0m\n\u001b[0;32m     85\u001b[0m         \u001b[1;31m# Using thousands='.' to automatically handle number formatting\u001b[0m\u001b[1;33m\u001b[0m\u001b[1;33m\u001b[0m\u001b[0m\n\u001b[0;32m     86\u001b[0m         \u001b[0mdf\u001b[0m \u001b[1;33m=\u001b[0m \u001b[0mpd\u001b[0m\u001b[1;33m.\u001b[0m\u001b[0mread_csv\u001b[0m\u001b[1;33m(\u001b[0m\u001b[0mf\u001b[0m\u001b[1;33m,\u001b[0m \u001b[0msep\u001b[0m\u001b[1;33m=\u001b[0m\u001b[1;34m';'\u001b[0m\u001b[1;33m,\u001b[0m \u001b[0mthousands\u001b[0m\u001b[1;33m=\u001b[0m\u001b[1;34m'.'\u001b[0m\u001b[1;33m)\u001b[0m\u001b[1;33m\u001b[0m\u001b[1;33m\u001b[0m\u001b[0m\n\u001b[1;32m---> 87\u001b[1;33m         \u001b[0mdf\u001b[0m\u001b[1;33m[\u001b[0m\u001b[1;34m'year'\u001b[0m\u001b[1;33m]\u001b[0m \u001b[1;33m=\u001b[0m \u001b[0mpd\u001b[0m\u001b[1;33m.\u001b[0m\u001b[0mto_datetime\u001b[0m\u001b[1;33m(\u001b[0m\u001b[0mdf\u001b[0m\u001b[1;33m[\u001b[0m\u001b[1;34m'Periodo'\u001b[0m\u001b[1;33m]\u001b[0m\u001b[1;33m,\u001b[0m \u001b[0mformat\u001b[0m\u001b[1;33m=\u001b[0m\u001b[1;34m'%Y'\u001b[0m\u001b[1;33m)\u001b[0m\u001b[1;33m.\u001b[0m\u001b[0myear\u001b[0m\u001b[1;33m\u001b[0m\u001b[1;33m\u001b[0m\u001b[0m\n\u001b[0m\u001b[0;32m     88\u001b[0m         \u001b[0mdf\u001b[0m\u001b[1;33m[\u001b[0m\u001b[1;34m'provincia'\u001b[0m\u001b[1;33m]\u001b[0m \u001b[1;33m=\u001b[0m \u001b[0mLOCATION_MAPPING\u001b[0m\u001b[1;33m.\u001b[0m\u001b[0mget\u001b[0m\u001b[1;33m(\u001b[0m\u001b[0mcity_code\u001b[0m\u001b[1;33m,\u001b[0m \u001b[0mcity_code\u001b[0m\u001b[1;33m)\u001b[0m\u001b[1;33m\u001b[0m\u001b[1;33m\u001b[0m\u001b[0m\n\u001b[0;32m     89\u001b[0m         \u001b[0mdf\u001b[0m \u001b[1;33m=\u001b[0m \u001b[0mdf\u001b[0m\u001b[1;33m[\u001b[0m\u001b[1;33m[\u001b[0m\u001b[1;34m'year'\u001b[0m\u001b[1;33m,\u001b[0m \u001b[1;34m'provincia'\u001b[0m\u001b[1;33m,\u001b[0m \u001b[1;34m'Total'\u001b[0m\u001b[1;33m]\u001b[0m\u001b[1;33m]\u001b[0m\u001b[1;33m\u001b[0m\u001b[1;33m\u001b[0m\u001b[0m\n\u001b[0;32m     90\u001b[0m         \u001b[0mdf_list\u001b[0m\u001b[1;33m.\u001b[0m\u001b[0mappend\u001b[0m\u001b[1;33m(\u001b[0m\u001b[0mdf\u001b[0m\u001b[1;33m)\u001b[0m\u001b[1;33m\u001b[0m\u001b[1;33m\u001b[0m\u001b[0m\n",
      "\u001b[1;32m~\\.conda\\envs\\tourism_env\\lib\\site-packages\\pandas\\core\\generic.py\u001b[0m in \u001b[0;36m?\u001b[1;34m(self, name)\u001b[0m\n\u001b[0;32m   6295\u001b[0m             \u001b[1;32mand\u001b[0m \u001b[0mname\u001b[0m \u001b[1;32mnot\u001b[0m \u001b[1;32min\u001b[0m \u001b[0mself\u001b[0m\u001b[1;33m.\u001b[0m\u001b[0m_accessors\u001b[0m\u001b[1;33m\u001b[0m\u001b[1;33m\u001b[0m\u001b[0m\n\u001b[0;32m   6296\u001b[0m             \u001b[1;32mand\u001b[0m \u001b[0mself\u001b[0m\u001b[1;33m.\u001b[0m\u001b[0m_info_axis\u001b[0m\u001b[1;33m.\u001b[0m\u001b[0m_can_hold_identifiers_and_holds_name\u001b[0m\u001b[1;33m(\u001b[0m\u001b[0mname\u001b[0m\u001b[1;33m)\u001b[0m\u001b[1;33m\u001b[0m\u001b[1;33m\u001b[0m\u001b[0m\n\u001b[0;32m   6297\u001b[0m         ):\n\u001b[0;32m   6298\u001b[0m             \u001b[1;32mreturn\u001b[0m \u001b[0mself\u001b[0m\u001b[1;33m[\u001b[0m\u001b[0mname\u001b[0m\u001b[1;33m]\u001b[0m\u001b[1;33m\u001b[0m\u001b[1;33m\u001b[0m\u001b[0m\n\u001b[1;32m-> 6299\u001b[1;33m         \u001b[1;32mreturn\u001b[0m \u001b[0mobject\u001b[0m\u001b[1;33m.\u001b[0m\u001b[0m__getattribute__\u001b[0m\u001b[1;33m(\u001b[0m\u001b[0mself\u001b[0m\u001b[1;33m,\u001b[0m \u001b[0mname\u001b[0m\u001b[1;33m)\u001b[0m\u001b[1;33m\u001b[0m\u001b[1;33m\u001b[0m\u001b[0m\n\u001b[0m",
      "\u001b[1;31mAttributeError\u001b[0m: 'Series' object has no attribute 'year'"
     ]
    }
   ],
   "source": [
    "# --- Load INE Data ---\n",
    "print(\"Loading INE data...\")\n",
    "df_ine_ecp = h.load_ine_ecp()\n",
    "df_ine_padron = h.load_ine_municipal_padron()\n",
    "df_ine_frontur = h.load_ine_frontur()\n",
    "df_ine_eoh = h.load_ine_eoh()\n",
    "print(\"INE data loaded.\")\n",
    "\n",
    "# --- Load Mobile Data for Castilla-La Mancha (CCAA) ---\n",
    "print(\"\\nLoading Mobile data for Castilla-La Mancha...\")\n",
    "clm_folder = \"CCAA Castilla-La Mancha\"\n",
    "df_mob_clm_diario_demo = h.load_mobile_data(clm_folder, \"Diario_Mes_demographics_analysis.parquet\")\n",
    "df_mob_clm_diario_origin = h.load_mobile_data(clm_folder, \"Diario_Mes_origin_analysis.parquet\")\n",
    "df_mob_clm_nocturno_origin = h.load_mobile_data(clm_folder, \"Nocturno_Mes_origin_analysis.parquet\")\n",
    "df_mob_clm_noche_estancia = h.load_mobile_data(clm_folder, \"NocheEstancia_origin_analysis.parquet\")\n",
    "\n",
    "# Add province column to CCAA data for consistent merging with EOH data\n",
    "if not df_mob_clm_nocturno_origin.empty:\n",
    "    df_mob_clm_nocturno_origin['provincia'] = '08 Castilla - La Mancha'\n",
    "if not df_mob_clm_noche_estancia.empty:\n",
    "    df_mob_clm_noche_estancia['provincia'] = '08 Castilla - La Mancha'\n",
    "    \n",
    "print(\"Mobile data loaded.\")\n",
    "print(\"\\nSample of EOH (Hotel Occupancy) data:\")\n",
    "display(df_ine_eoh.head())"
   ]
  },
  {
   "cell_type": "code",
   "execution_count": null,
   "id": "51c30f6a-2183-416b-8c56-e9915e23b995",
   "metadata": {},
   "outputs": [],
   "source": [
    "# Cell 4: Analysis 2 - Average Length of Stay Comparison (Using Corrected Function)\n",
    "# ---------------------------------------------------------------------------------\n",
    "# This now uses the refined function that filters for tourist categories.\n",
    "stay_comparison_df = dp.prepare_average_stay_comparison(noche_estancia_clm_df, public_data['eoh'])\n",
    "# ... (plotting code) ...\n",
    "fig, ax = plt.subplots(figsize=(15, 8))\n",
    "stay_comparison_df.plot(x='date', y=['Mobile_Avg_Stay', 'EOH_Avg_Stay'], ax=ax, style=['-o', '--s'], lw=2.5, ms=8)\n",
    "ax.set_title('Average Length of Stay (Tourists Only): Mobile Data vs. EOH', fontsize=20, pad=20)\n",
    "ax.set_xlabel('Date', fontsize=14)\n",
    "ax.set_ylabel('Average Nights per Visitor', fontsize=14)\n",
    "ax.legend(['Mobile Data Avg. Stay', 'EOH Avg. Stay'], fontsize=12)\n",
    "plt.tight_layout()\n",
    "plt.show()\n",
    "display(stay_comparison_df.head())"
   ]
  },
  {
   "cell_type": "code",
   "execution_count": null,
   "id": "c040d1c0-f703-403a-aae4-676722b8b2e7",
   "metadata": {},
   "outputs": [],
   "source": [
    "\n",
    "\n",
    "\n",
    "# Cell 5: Analysis 3 - City-Level Resident Population Comparison (NEW)\n",
    "# --------------------------------------------------------------------\n",
    "# This new analysis compares resident population at the city level\n",
    "# between mobile data and the official Padrón municipal.\n",
    "\n",
    "# 1. Prepare data using our new helper function\n",
    "city_pop_comparison_df = dp.prepare_city_population_comparison(PATH_ANALYTICS, PATH_PUBLIC)\n",
    "\n",
    "# 2. Reshape data for plotting\n",
    "city_pop_melted = city_pop_comparison_df.melt(\n",
    "    id_vars=['year', 'City'], \n",
    "    value_vars=['Mobile_Population', 'Padron_Population'],\n",
    "    var_name='Source', \n",
    "    value_name='Population'\n",
    ")\n",
    "\n",
    "# 3. Generate visualization\n",
    "g = sns.catplot(\n",
    "    data=city_pop_melted,\n",
    "    x='City',\n",
    "    y='Population',\n",
    "    hue='Source',\n",
    "    col='year',\n",
    "    kind='bar',\n",
    "    height=6,\n",
    "    aspect=1.2\n",
    ")\n",
    "g.fig.suptitle('Annual Resident Population: Mobile Data vs. Padrón', y=1.03, fontsize=20)\n",
    "g.set_axis_labels(\"City\", \"Average / Total Population\")\n",
    "g.set_titles(\"Year {col_name}\")\n",
    "plt.tight_layout(rect=[0, 0, 1, 0.97])\n",
    "plt.show()\n",
    "\n",
    "# 4. Display data\n",
    "print(\"City-Level Population Comparison Data:\")\n",
    "display(city_pop_comparison_df)"
   ]
  }
 ],
 "metadata": {
  "kernelspec": {
   "display_name": "Python 3 (ipykernel)",
   "language": "python",
   "name": "python3"
  },
  "language_info": {
   "codemirror_mode": {
    "name": "ipython",
    "version": 3
   },
   "file_extension": ".py",
   "mimetype": "text/x-python",
   "name": "python",
   "nbconvert_exporter": "python",
   "pygments_lexer": "ipython3",
   "version": "3.10.16"
  }
 },
 "nbformat": 4,
 "nbformat_minor": 5
}

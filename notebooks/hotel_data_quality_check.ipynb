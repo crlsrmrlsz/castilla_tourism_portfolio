{
 "cells": [
  {
   "cell_type": "markdown",
   "id": "2511abc4-bb52-40d1-9547-636d98f14ed5",
   "metadata": {},
   "source": [
    "# Data Quality Check: INE vs. Mobile Data Comparison\n",
    "**Objective:** Compare hotel occupancy data from INE with anonymized mobile phone data for night stays in Castilla-La Mancha to validate the mobile dataset."
   ]
  },
  {
   "cell_type": "code",
   "id": "eca845c2-7312-4896-b1a2-91cc2182fa21",
   "metadata": {},
   "source": [
    "# --- Cell 2: Code ---\n",
    "import pandas as pd\n",
    "import plotly.graph_objects as go\n",
    "import plotly.io as pio\n",
    "import os\n",
    "import sys\n",
    "\n",
    "# Set a professional plot theme\n",
    "pio.templates.default = \"plotly_white\"\n",
    "\n",
    "# Add scripts directory to path to import helpers\n",
    "# Make sure the path is correct for your project structure\n",
    "sys.path.append('../scripts')\n",
    "import hotel_data_helpers as helpers\n",
    "\n",
    "# --- Configuration ---\n",
    "# Set to False to hide detailed dataframe printouts during execution\n",
    "DEBUG = True\n"
   ],
   "outputs": [],
   "execution_count": null
  },
  {
   "cell_type": "code",
   "id": "fa665c47-b208-4899-a4d2-475bdda32686",
   "metadata": {},
   "source": [
    "# --- Cell 3: Markdown ---\n",
    "# ## 1. Load and Process Datasets\n",
    "#\n",
    "# We will now load the two datasets:\n",
    "# 1.  **INE Data:** `INE_EOH_Viajeros_pernoctaciones_mensual.csv` - Contains monthly traveler numbers in hotels.\n",
    "# 2.  **Mobile Data:** `Nocturno_Mes_demographics_analysis.parquet` - Contains monthly night-stay data from mobile devices for Castilla-La Mancha.\n",
    "\n",
    "# --- Cell 4: Code ---\n",
    "# Define file paths based on the project structure\n",
    "ine_file_path = '../data/raw/ine_data/INE_EOH_Viajeros_pernoctaciones_mensual.csv'\n",
    "mobile_file_path = '../data/analytics/CCAA Castilla-La Mancha/Nocturno_Mes_demographics_analysis.parquet'\n",
    "\n",
    "# Load data using the helper functions\n",
    "# The debug flag will print intermediate steps and dataframes\n",
    "df_ine = helpers.load_ine_data(ine_file_path, debug=DEBUG)\n",
    "df_mobile = helpers.load_mobile_data(mobile_file_path, debug=DEBUG)"
   ],
   "outputs": [],
   "execution_count": null
  },
  {
   "cell_type": "markdown",
   "id": "20c3ff14-66c0-4fc9-8eef-622a0b95bb74",
   "metadata": {},
   "source": [
    "## 2. Merge Data and Extrapolate INE Figures\n",
    "\n",
    "With both datasets loaded and cleaned, we merge them based on date and residency. We also apply an **extrapolation factor** to the INE data.\n",
    "\n",
    "### Reasoning for Extrapolation\n",
    "\n",
    "The INE data only counts travelers staying in hotels. The mobile data captures anyone spending the night, regardless of accommodation type (hotels, rentals, family homes, etc.). To make a fair comparison, we need to estimate the *total* number of travelers from the hotel data.\n",
    "\n",
    "Based on regional tourism statistics (\"Plan Estratégico de Turismo de Castilla-La Mancha\"), travelers staying in hotels represent approximately **65%** of all travelers. Therefore, we will extrapolate the INE numbers by dividing by 0.65 (or multiplying by ~1.53) to estimate the total market size."
   ]
  },
  {
   "cell_type": "code",
   "id": "8862937a-b98d-47d6-a1f1-cacdfac036e8",
   "metadata": {},
   "source": [
    "# --- Cell 6: Code ---\n",
    "# Merge the two datasets and apply the extrapolation\n",
    "df_comparison = helpers.merge_and_prepare_data(df_ine, df_mobile, debug=DEBUG)\n",
    "\n",
    "# Display the final prepared dataframe if not in debug mode\n",
    "if not DEBUG and 'df_comparison' in locals():\n",
    "    print(\"--- Final Comparison DataFrame ---\")\n",
    "    display(df_comparison.head())"
   ],
   "outputs": [],
   "execution_count": null
  },
  {
   "cell_type": "markdown",
   "id": "aeb3f9c1-e3dd-4bb7-a10d-12f435b9f682",
   "metadata": {},
   "source": [
    "## 3. Visualize the Comparison\n",
    "\n",
    "The final step is to create a professional bar chart that clearly compares the datasets. The chart will feature:\n",
    "\n",
    "- **Stacked Bars for Mobile Data:** Showing the individual contributions of 'Tourists' and 'Frequently Present' individuals.\n",
    "- **Grouped Bars:** Comparing the total mobile data against the extrapolated INE data, month by month.\n",
    "- **Facets:** Separate charts for Spanish residents and Foreign residents for clearer analysis."
   ]
  },
  {
   "cell_type": "code",
   "id": "f639c609-9f81-4b97-a82e-4c97b4dc913c",
   "metadata": {},
   "source": [
    "# --- Cell 8: Code ---\n",
    "# Check if the comparison dataframe is valid before plotting\n",
    "if 'df_comparison' in locals() and not df_comparison.empty:\n",
    "    # Prepare data for plotting by sorting by date\n",
    "    df_plot = df_comparison.sort_values('fecha')\n",
    "\n",
    "    # Get unique residencies to create a plot for each category\n",
    "    residencies = df_plot['residencia'].unique()\n",
    "\n",
    "    for res in residencies:\n",
    "        df_res = df_plot[df_plot['residencia'] == res]\n",
    "\n",
    "        fig = go.Figure()\n",
    "\n",
    "        # --- Add Mobile Data Bars (Stacked) ---\n",
    "        # Bar for 'Tourists' (bottom part of the stack)\n",
    "        fig.add_trace(go.Bar(\n",
    "            x=df_res['fecha'],\n",
    "            y=df_res['turistas_mobile'],\n",
    "            name='Mobile Data: Tourists',\n",
    "            marker_color='#1f77b4',  # Professional Blue\n",
    "            offsetgroup=0\n",
    "        ))\n",
    "        \n",
    "        # Bar for 'Frequently Present' (top part of the stack)\n",
    "        fig.add_trace(go.Bar(\n",
    "            x=df_res['fecha'],\n",
    "            y=df_res['frecuentes_mobile'],\n",
    "            name='Mobile Data: Frequently Present',\n",
    "            marker_color='#aec7e8',  # Light Blue\n",
    "            offsetgroup=0,\n",
    "            base=df_res['turistas_mobile'] # This stacks it on top of the 'turistas_mobile' bar\n",
    "        ))\n",
    "\n",
    "        # --- Add INE Data Bar (Grouped) ---\n",
    "        fig.add_trace(go.Bar(\n",
    "            x=df_res['fecha'],\n",
    "            y=df_res['viajeros_ine_extrapolado'],\n",
    "            name='INE Data (Extrapolated Total)',\n",
    "            marker_color='#ff7f0e',  # Professional Orange\n",
    "            offsetgroup=1\n",
    "        ))\n",
    "\n",
    "        # --- Customize Layout ---\n",
    "        fig.update_layout(\n",
    "            title=f'<b>Monthly Travelers in Castilla-La Mancha ({res})</b><br>Mobile Data vs. Extrapolated INE Data',\n",
    "            xaxis_title='Month',\n",
    "            yaxis_title='Number of Travelers',\n",
    "            barmode='group', # Grouped bars for Mobile vs INE\n",
    "            legend_title='Data Source',\n",
    "            xaxis=dict(tickformat='%b %Y'), # Format x-axis dates for readability\n",
    "            legend=dict(\n",
    "                x=1.02, \n",
    "                y=1, \n",
    "                traceorder='normal',\n",
    "                bgcolor='rgba(255, 255, 255, 0.5)',\n",
    "                bordercolor='rgba(0, 0, 0, 0.5)',\n",
    "                borderwidth=1\n",
    "            ),\n",
    "            yaxis_gridcolor='lightgrey'\n",
    "        )\n",
    "\n",
    "        fig.show()\n",
    "else:\n",
    "    print(\"Comparison DataFrame could not be created. Please check the loading and merging steps for errors.\")"
   ],
   "outputs": [],
   "execution_count": null
  },
  {
   "cell_type": "code",
   "id": "2424101d-7760-41e8-bb89-a26c8b02ee7e",
   "metadata": {},
   "source": [],
   "outputs": [],
   "execution_count": null
  }
 ],
 "metadata": {
  "kernelspec": {
   "display_name": "Python 3 (ipykernel)",
   "language": "python",
   "name": "python3"
  },
  "language_info": {
   "codemirror_mode": {
    "name": "ipython",
    "version": 3
   },
   "file_extension": ".py",
   "mimetype": "text/x-python",
   "name": "python",
   "nbconvert_exporter": "python",
   "pygments_lexer": "ipython3",
   "version": "3.10.16"
  }
 },
 "nbformat": 4,
 "nbformat_minor": 5
}
